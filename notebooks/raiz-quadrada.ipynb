# 🧮 Calcular as Raízes de uma Equação do 2° Grau

Este notebook mostra como aplicar a **fórmula de Bhaskara** usando Python.

---

## 📘 Equação geral

\[
ax^2 + bx + c = 0
\]

## 🧠 Fórmula de Bhaskara

\[
x = \frac{-b \pm \sqrt{b^2 - 4ac}}{2a}
\]

---

## 💡 Objetivo

Compreender, de forma intuitiva, como o cálculo das raízes funciona **traduzindo a matemática em código Python**.  
Este exemplo faz parte da série *“Matemática com Python”*, voltada a pessoas que aprendem melhor de forma prática e visual.
