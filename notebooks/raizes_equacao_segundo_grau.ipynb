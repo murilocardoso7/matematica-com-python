{
 "cells": [
  {
   "cell_type": "markdown",
   "id": "941d33c1",
   "metadata": {},
   "source": [
    "# 🧮 Calcular as Raízes de uma Equação do 2° Grau\n",
    "\n",
    "Este notebook mostra como aplicar a **fórmula de Bhaskara** em Python para encontrar as raízes reais de uma equação do segundo grau.\n",
    "\n",
    "---\n",
    "\n",
    "### 📘 Equação geral\n",
    "\\[\n",
    "ax^2 + bx + c = 0\n",
    "\\]\n",
    "\n",
    "### ⚙️ Fórmula de Bhaskara\n",
    "\\[\n",
    "x = \\frac{-b \\pm \\sqrt{b^2 - 4ac}}{2a}\n",
    "\\]\n",
    "\n"
   ]
  },
  {
   "cell_type": "code",
   "execution_count": null,
   "id": "ea333565",
   "metadata": {},
   "outputs": [],
   "source": [
    "def raizes(a, b, c):\n",
    "    \"\"\"\n",
    "    Calcula as raízes reais de uma equação do segundo grau (ax² + bx + c = 0).\n",
    "    \n",
    "    Parâmetros:\n",
    "        a (float): coeficiente de x²\n",
    "        b (float): coeficiente de x\n",
    "        c (float): termo constante\n",
    "    \n",
    "    Retorna:\n",
    "        tuple ou str: (x1, x2) se houver raízes reais, ou mensagem indicando ausência.\n",
    "    \"\"\"\n",
    "    delta = b**2 - 4*a*c\n",
    "    \n",
    "    if delta < 0:\n",
    "        return \"Não existem raízes reais.\"\n",
    "    else:\n",
    "        x1 = (-b + delta**0.5) / (2*a)\n",
    "        x2 = (-b - delta**0.5) / (2*a)\n",
    "        return x1, x2"
   ]
  },
  {
   "cell_type": "code",
   "execution_count": null,
   "id": "9089c6ae",
   "metadata": {},
   "outputs": [],
   "source": [
    "# Exemplo 1: a=1, b=-3, c=2\n",
    "# Esperado: x1=2, x2=1\n",
    "resultado = raizes(1, -3, 2)\n",
    "print(\"Resultado:\", resultado)"
   ]
  },
  {
   "cell_type": "code",
   "execution_count": null,
   "id": "fe02f337",
   "metadata": {},
   "outputs": [],
   "source": [
    "# Exemplo 2: a=1, b=2, c=1\n",
    "# Esperado: x1 = x2 = -1 (raiz dupla)\n",
    "resultado = raizes(1, 2, 1)\n",
    "print(\"Resultado:\", resultado)"
   ]
  },
  {
   "cell_type": "code",
   "execution_count": null,
   "id": "d07ea765",
   "metadata": {},
   "outputs": [],
   "source": [
    "# Exemplo 3: a=1, b=1, c=1\n",
    "# Esperado: não existem raízes reais\n",
    "resultado = raizes(1, 1, 1)\n",
    "print(\"Resultado:\", resultado)"
   ]
  },
  {
   "cell_type": "markdown",
   "id": "c0cd473f",
   "metadata": {},
   "source": [
    "\n",
    "\n"
   ]
  }
 ],
 "metadata": {
  "language_info": {
   "name": "python"
  }
 },
 "nbformat": 4,
 "nbformat_minor": 5
}
